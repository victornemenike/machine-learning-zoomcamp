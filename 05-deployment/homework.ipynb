{
 "cells": [
  {
   "cell_type": "markdown",
   "id": "be57d822-3828-4e92-9dbf-3ab1e1bad8ed",
   "metadata": {},
   "source": [
    "# Homework 5: Deploying Machine Learning Models"
   ]
  },
  {
   "cell_type": "markdown",
   "id": "02761d83-79da-460d-8431-8eb0dd6f77d7",
   "metadata": {},
   "source": [
    "## Question 3"
   ]
  },
  {
   "cell_type": "code",
   "execution_count": null,
   "id": "fae8cdfb",
   "metadata": {},
   "outputs": [],
   "source": [
    "import pickle"
   ]
  },
  {
   "cell_type": "code",
   "execution_count": null,
   "id": "5847f252-09d2-4a70-a757-a0209c711be8",
   "metadata": {},
   "outputs": [],
   "source": [
    "model_file = 'model1.bin'\n",
    "dv_file = 'dv.bin'\n",
    "\n",
    "with open(model_file, 'rb') as f_in:\n",
    "    model = pickle.load(f_in)\n",
    "\n",
    "with open(dv_file, 'rb') as f_in:\n",
    "    dv = pickle.load(f_in)\n",
    "\n",
    "customer = {\"job\": \"management\", \"duration\": 400, \"poutcome\": \"success\"}\n",
    "\n",
    "X = dv.transform([customer])\n",
    "y_pred = model.predict_proba(X)[0, 1]\n",
    "\n",
    "print('input', customer)\n",
    "print('churn probability', y_pred)"
   ]
  }
 ],
 "metadata": {
  "kernelspec": {
   "display_name": "Python 3 (ipykernel)",
   "language": "python",
   "name": "python3"
  },
  "language_info": {
   "codemirror_mode": {
    "name": "ipython",
    "version": 3
   },
   "file_extension": ".py",
   "mimetype": "text/x-python",
   "name": "python",
   "nbconvert_exporter": "python",
   "pygments_lexer": "ipython3",
   "version": "3.11.9"
  }
 },
 "nbformat": 4,
 "nbformat_minor": 5
}
